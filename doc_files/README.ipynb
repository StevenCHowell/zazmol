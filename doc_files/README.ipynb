{
 "cells": [
  {
   "cell_type": "markdown",
   "metadata": {},
   "source": [
    "## ZAZMOL\n",
    "## ======\n",
    "\n",
    "This is the unstable developer branch of sasmol\n",
    "\n",
    "Library for defining molecular objects to create simulation and analysis programs\n",
    "\n",
    "To install:\n",
    "\n",
    "python setup.py install\n",
    "\n",
    "dependencies:\n",
    "\n",
    "numpy,\n",
    "mocker\n",
    "\n",
    "***\n",
    "\n",
    "### [`basic usage`](doc_files/basic_usage.md)\n",
    "\n",
    "### [`library documentation`](https://madscatt.github.io/zazmol/index.html)\n",
    "\n",
    "### [`developer notes`](development_tools/notes.md)\n",
    "\n",
    "***\n"
   ]
  },
  {
   "cell_type": "code",
   "execution_count": 1,
   "metadata": {
    "collapsed": true
   },
   "outputs": [],
   "source": [
    "import sasmol.system as system"
   ]
  },
  {
   "cell_type": "code",
   "execution_count": 2,
   "metadata": {
    "collapsed": false
   },
   "outputs": [
    {
     "name": "stdout",
     "output_type": "stream",
     "text": [
      "reading filename:  hiv1_gag.pdb\n",
      "num_atoms =  6730\n",
      ">>> found  1  model(s) or frame(s)\n",
      "finished reading frame =  1\n"
     ]
    }
   ],
   "source": [
    "molecule = system.Molecule('hiv1_gag.pdb')"
   ]
  },
  {
   "cell_type": "code",
   "execution_count": 3,
   "metadata": {
    "collapsed": false
   },
   "outputs": [
    {
     "data": {
      "text/plain": [
       "6730"
      ]
     },
     "execution_count": 3,
     "metadata": {},
     "output_type": "execute_result"
    }
   ],
   "source": [
    "molecule.natoms()"
   ]
  },
  {
   "cell_type": "code",
   "execution_count": 4,
   "metadata": {
    "collapsed": false
   },
   "outputs": [
    {
     "data": {
      "text/plain": [
       "1"
      ]
     },
     "execution_count": 4,
     "metadata": {},
     "output_type": "execute_result"
    }
   ],
   "source": [
    "molecule.number_of_frames()"
   ]
  },
  {
   "cell_type": "code",
   "execution_count": 5,
   "metadata": {
    "collapsed": false
   },
   "outputs": [],
   "source": [
    "frame = 0"
   ]
  },
  {
   "cell_type": "code",
   "execution_count": 6,
   "metadata": {
    "collapsed": false
   },
   "outputs": [
    {
     "data": {
      "text/plain": [
       "array([ -6.79114736, -23.71577133,   8.06558513])"
      ]
     },
     "execution_count": 6,
     "metadata": {},
     "output_type": "execute_result"
    }
   ],
   "source": [
    "molecule.calculate_center_of_mass(frame)"
   ]
  },
  {
   "cell_type": "code",
   "execution_count": 7,
   "metadata": {
    "collapsed": false
   },
   "outputs": [],
   "source": [
    "molecule.translate(frame,[88.3, 19.6, 14.7],point=True)"
   ]
  },
  {
   "cell_type": "code",
   "execution_count": 8,
   "metadata": {
    "collapsed": false
   },
   "outputs": [
    {
     "data": {
      "text/plain": [
       "array([ 88.3,  19.6,  14.7])"
      ]
     },
     "execution_count": 8,
     "metadata": {},
     "output_type": "execute_result"
    }
   ],
   "source": [
    "molecule.calculate_center_of_mass(frame)"
   ]
  },
  {
   "cell_type": "code",
   "execution_count": 9,
   "metadata": {
    "collapsed": false
   },
   "outputs": [],
   "source": [
    "molecule.rotate(frame,'x',45*3.1515927/180.0)"
   ]
  },
  {
   "cell_type": "code",
   "execution_count": 10,
   "metadata": {
    "collapsed": false
   },
   "outputs": [
    {
     "data": {
      "text/plain": [
       "array([ 88.3       ,   3.40417778,  24.26234889])"
      ]
     },
     "execution_count": 10,
     "metadata": {},
     "output_type": "execute_result"
    }
   ],
   "source": [
    "molecule.calculate_center_of_mass(frame)"
   ]
  },
  {
   "cell_type": "code",
   "execution_count": 11,
   "metadata": {
    "collapsed": false
   },
   "outputs": [
    {
     "data": {
      "text/plain": [
       "(array([  1.30834716e+07,   1.91993314e+08,   1.85015201e+08]),\n",
       " array([[-0.08711655, -0.97104917,  0.22242802],\n",
       "        [-0.9670572 ,  0.13604234,  0.21515775],\n",
       "        [ 0.23918838,  0.19635682,  0.95091162]]),\n",
       " array([[  1.90290278e+08,  -1.54065145e+07,   2.25205595e+06],\n",
       "        [ -1.54065145e+07,   2.43538600e+07,   3.99557354e+07],\n",
       "        [  2.25205595e+06,   3.99557354e+07,   1.75447849e+08]]))"
      ]
     },
     "execution_count": 11,
     "metadata": {},
     "output_type": "execute_result"
    }
   ],
   "source": [
    "molecule.calculate_principle_moments_of_inertia(frame)"
   ]
  },
  {
   "cell_type": "code",
   "execution_count": 12,
   "metadata": {
    "collapsed": false
   },
   "outputs": [],
   "source": [
    "molecule.write_pdb('rotated_hiv1_gag.pdb',frame,'w');"
   ]
  }
 ],
 "metadata": {
  "anaconda-cloud": {},
  "kernelspec": {
   "display_name": "Python [Root]",
   "language": "python",
   "name": "Python [Root]"
  },
  "language_info": {
   "codemirror_mode": {
    "name": "ipython",
    "version": 2
   },
   "file_extension": ".py",
   "mimetype": "text/x-python",
   "name": "python",
   "nbconvert_exporter": "python",
   "pygments_lexer": "ipython2",
   "version": "2.7.12"
  }
 },
 "nbformat": 4,
 "nbformat_minor": 0
}
